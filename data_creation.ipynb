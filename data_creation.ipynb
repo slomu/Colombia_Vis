{
 "cells": [
  {
   "attachments": {},
   "cell_type": "markdown",
   "metadata": {},
   "source": [
    "Imports and function to get the population of the departments"
   ]
  },
  {
   "cell_type": "code",
   "execution_count": 1,
   "metadata": {},
   "outputs": [],
   "source": [
    "import pandas as pd\n",
    "import requests\n",
    "from bs4 import BeautifulSoup\n",
    "from unidecode import unidecode\n",
    "import geopandas\n",
    "\n",
    "\n",
    "def crawlpop():\n",
    "    wikiurl = 'https://en.wikipedia.org/wiki/List_of_Colombian_departments_by_population'\n",
    "    table_class=\"wikitable sortable jquery-tablesorter\"\n",
    "    response=requests.get(wikiurl)\n",
    "    #print(response.status_code)\n",
    "    soup = BeautifulSoup(response.text, 'html.parser')\n",
    "    coltable=soup.find('table',{'class':\"wikitable\"})\n",
    "    df=pd.read_html(str(coltable))\n",
    "    df=pd.DataFrame(df[0])\n",
    "    #print(df.head())\n",
    "    dfpop = pd.DataFrame(columns=[\"dep\",\"population\"])\n",
    "    dfpop[\"dep\"] = df[\"Department\"]\n",
    "    dfpop[\"population\"] = df[\"Population (2020)[1]\"]\n",
    "    #print(dfpop)\n",
    "    dfpop.to_csv(\"data/temppop.csv\")\n",
    "\n",
    "crawlpop()"
   ]
  },
  {
   "attachments": {},
   "cell_type": "markdown",
   "metadata": {},
   "source": [
    "Preparing the data"
   ]
  },
  {
   "cell_type": "code",
   "execution_count": 3,
   "metadata": {},
   "outputs": [],
   "source": [
    "df = pd.read_csv(\"data/DV.csv\", low_memory= False)\n",
    "#taken from https://www.kaggle.com/datasets/oscardavidperilla/domestic-violence-in-colombia\n",
    "df2 = pd.read_csv(\"data/temppop.csv\", encoding=\"utf-8\")\n",
    "df = df[df.GENERO != \"NO REPORTA\"]\n",
    "df = df[df.GENERO != \"-\"]\n",
    "df = df[df.MUNICIPIO != \"NO REPORTA\"]\n",
    "df = df[df[\"ARMAS MEDIOS\"] != \"NO REPORTA\"]\n",
    "df = df[df[\"ARMAS MEDIOS\"] != \"NO REPORTADO\"]\n",
    "df = df[df[\"ARMAS MEDIOS\"] != \"-\"]\n",
    "df = df.dropna()\n",
    "df[\"DEPARTAMENTO\"] = df[\"DEPARTAMENTO\"].apply(lambda x: unidecode(x))\n",
    "df.loc[df[\"MUNICIPIO\"] == \"BOGOTÁ D.C. (CT)\", \"DEPARTAMENTO\"] = \"SANTAFE DE BOGOTA D.C\"\n",
    "deps = []\n",
    "#deps = [['ATLÁNTICO', 'BOYACÁ', 'CAQUETÁ', 'CASANARE', 'CUNDINAMARCA', 'SUCRE', 'VALLE', 'HUILA', 'ANTIOQUIA', 'ARAUCA', 'BOLÍVAR', 'CALDAS', 'CAUCA', 'CESAR', 'CHOCÓ', 'CÓRDOBA', 'MAGDALENA', 'META', 'NARIÑO', 'NORTE DE SANTANDER', 'PUTUMAYO', 'RISARALDA', 'SANTANDER', 'TOLIMA', 'VAUPÉS', 'GUAVIARE', 'GUAJIRA', 'QUINDÍO', 'AMAZONAS', 'VICHADA', 'GUAINÍA', 'SAN ANDRÉS', 'NO REPORTA']]\n",
    "for x in df[\"DEPARTAMENTO\"]:\n",
    "   if x not in deps:\n",
    "        deps.append(x)\n",
    "  \n",
    "df2.dep = df2.dep.str.upper()\n",
    "\n",
    "#df2[\"population\"] = df2[\"population\"].replace([df2[df2[\"dep\"] == \"CUNDINAMARCA\"][\"population\"]], df2[df2[\"dep\"] == \"CUNDINAMARCA\"][\"population\"].values + df2[df2[\"dep\"] == \"BOGOTÁ\"][\"population\"].values)\n",
    "#df2 = df2.drop(df2[df2[\"dep\"] == \"BOGOTÁ\"].index)\n",
    "df2[\"dep\"] = df2[\"dep\"].replace(\"BOGOTÁ\", \"SANTAFE DE BOGOTA D.C\")\n",
    "df2[\"dep\"] = df2[\"dep\"].replace(\"LA GUAJIRA\", \"GUAJIRA\")\n",
    "df2[\"dep\"] = df2[\"dep\"].replace(\"SAN ANDRÉS Y PROVIDENCIA\", \"SAN ANDRES\")\n",
    "df2[\"dep\"] = df2[\"dep\"].replace(\"VALLE DEL CAUCA\", \"VALLE\")\n",
    "df2[\"dep\"] = df2[\"dep\"].apply(lambda x: unidecode(x))"
   ]
  },
  {
   "attachments": {},
   "cell_type": "markdown",
   "metadata": {},
   "source": [
    "Create a list that for each department divides the set of cases into different factors"
   ]
  },
  {
   "cell_type": "code",
   "execution_count": 4,
   "metadata": {},
   "outputs": [],
   "source": [
    "a = []\n",
    "for x in df:\n",
    "    if x == \"ARMAS MEDIOS\" or x == \"GENERO\" or x == \"GRUPO ETARIO\":\n",
    "        for y in df[x].unique():\n",
    "            dftemp = df[df[x] == y]\n",
    "            dftemp = dftemp[\"DEPARTAMENTO\"].value_counts().to_dict()\n",
    "            match x:\n",
    "                case \"ARMAS MEDIOS\":\n",
    "                    z = \"Weapon_of_crime\"\n",
    "                    match y:\n",
    "                        case \"ARMA BLANCA / CORTOPUNZANTE\":\n",
    "                            z2 = \"stabbing_weapon\"\n",
    "                        case \"ARMA DE FUEGO\":\n",
    "                            z2 = \"firearm\"\n",
    "                        case \"CONTUNDENTES\":\n",
    "                            z2 = \"blunt_weapon\"\n",
    "                        case \"CORTANTES\":\n",
    "                            z2 = \"slashing_weapon\"\n",
    "                        case \"CORTOPUNZANTES\":\n",
    "                            z2 = \"sharp_weapon2\"\n",
    "                        case \"PUNZANTES\":\n",
    "                            z2 = \"sharp_weapon\"\n",
    "                        case \"SIN EMPLEO DE ARMAS\":\n",
    "                            z2 = \"no_weapon\" \n",
    "                        case \"ESCOPOLAMINA\":\n",
    "                            z2 = \"narcotics\"   \n",
    "                case \"GENERO\":\n",
    "                    z = \"gender\"\n",
    "                    match  y:\n",
    "                        case \"MASCULINO\":\n",
    "                            z2 = \"male\" \n",
    "                        case \"FEMENINO\":\n",
    "                            z2 = \"female\"   \n",
    "                case \"GRUPO ETARIO\":\n",
    "                    z = \"agegroup\"\n",
    "                    match y:\n",
    "                        case \"ADULTOS\":\n",
    "                            z2 = \"adult\"\n",
    "                        case \"ADOLESCENTES\":\n",
    "                            z2 = \"teenager\"\n",
    "                        case \"MENORES\":\n",
    "                            z2 = \"minor\"\n",
    "\n",
    "            #for key in dftemp.keys():\n",
    "                #dftemp[key] = (dftemp[key], z, z2)\n",
    "            dftemp = [z, z2, dftemp]\n",
    "        #dftemp.append(y)\n",
    "            a.append(dftemp)\n"
   ]
  },
  {
   "attachments": {},
   "cell_type": "markdown",
   "metadata": {},
   "source": [
    "Check if the Data is correct"
   ]
  },
  {
   "cell_type": "code",
   "execution_count": 5,
   "metadata": {},
   "outputs": [],
   "source": [
    "dep1 = sorted(deps)\n",
    "dep2 = df2.sort_values(\"dep\").reset_index()[\"dep\"]\n",
    "\n",
    "depvergleich = pd.DataFrame(columns=[\"dep1\" , \"dep2\"])\n",
    "\n",
    "depvergleich[\"dep1\"] = dep1\n",
    "depvergleich[\"dep2\"] = dep2\n",
    "\n",
    "for i in range(len(dep1)):\n",
    "    if dep1[i] != dep2[i]:\n",
    "        print(i, dep1[i], dep2[i])"
   ]
  },
  {
   "attachments": {},
   "cell_type": "markdown",
   "metadata": {},
   "source": [
    "writes data into df.csv"
   ]
  },
  {
   "cell_type": "code",
   "execution_count": 7,
   "metadata": {},
   "outputs": [],
   "source": [
    "df.to_csv(\"data/dv_data.csv\")"
   ]
  },
  {
   "attachments": {},
   "cell_type": "markdown",
   "metadata": {},
   "source": [
    "Creates dataframe with the number of cases as well as the population of each department, as well as a normalized number of cases (cases / (population/1000)). And writes the Dataframe into data.csv"
   ]
  },
  {
   "cell_type": "code",
   "execution_count": 8,
   "metadata": {},
   "outputs": [
    {
     "name": "stderr",
     "output_type": "stream",
     "text": [
      "C:\\Users\\slomo\\AppData\\Local\\Temp\\ipykernel_10856\\3785566858.py:15: FutureWarning: Calling int on a single element Series is deprecated and will raise a TypeError in the future. Use int(ser.iloc[0]) instead\n",
      "  p = int(df2[df2[\"dep\"] == x].population)\n"
     ]
    }
   ],
   "source": [
    "\n",
    "#b = df.groupby(\"DEPARTAMENTO\").count()\n",
    "dft = df[\"DEPARTAMENTO\"].value_counts().to_dict().items()\n",
    "\n",
    "data = pd.DataFrame(columns = [\"dep\", \"cases\", \"population\"])\n",
    "\n",
    "dep = []\n",
    "cases = []\n",
    "population = []\n",
    "norm = []\n",
    "\n",
    "for x,y in dft:\n",
    "    depart = unidecode(x)\n",
    "    dep.append(depart)\n",
    "    cases.append(y)\n",
    "    p = int(df2[df2[\"dep\"] == x].population)\n",
    "    population.append(p)\n",
    "    norm.append(round((y/(p/1000)), 2))\n",
    "\n",
    "for i in range(len(a)):\n",
    "    sublist = []\n",
    "    var1 = a[i][0]\n",
    "    var2 = a[i][1]\n",
    "    for x,y in dft:\n",
    "        if x in a[i][2]:\n",
    "            varcas = a[i][2][x]\n",
    "        else:\n",
    "            varcas = 0\n",
    "        sublist.append(varcas)\n",
    "    #would write all combinations of the chosen factors from a into the dataframe\n",
    "    #data[\"{}_{}\".format(var1, var2)] = sublist\n",
    "\n",
    "\n",
    "data[\"dep\"] = dep\n",
    "data[\"cases\"] = cases\n",
    "data[\"population\"] = population\n",
    "#data[\"norm\"] = norm\n",
    "\n",
    "data.to_csv(\"data/popdata.csv\")"
   ]
  },
  {
   "attachments": {},
   "cell_type": "markdown",
   "metadata": {},
   "source": [
    "Write all the factors into the geojson as properties (not needed on the current version)"
   ]
  },
  {
   "cell_type": "code",
   "execution_count": 10,
   "metadata": {},
   "outputs": [
    {
     "name": "stderr",
     "output_type": "stream",
     "text": [
      "C:\\Users\\slomo\\AppData\\Local\\Temp\\ipykernel_10856\\3261683577.py:10: FutureWarning: Calling int on a single element Series is deprecated and will raise a TypeError in the future. Use int(ser.iloc[0]) instead\n",
      "  c = int(data[data[\"dep\"] == row[\"NOMBRE_DPT\"]].cases)\n",
      "C:\\Users\\slomo\\AppData\\Local\\Temp\\ipykernel_10856\\3261683577.py:11: FutureWarning: Calling int on a single element Series is deprecated and will raise a TypeError in the future. Use int(ser.iloc[0]) instead\n",
      "  p = int(data[data[\"dep\"] == row[\"NOMBRE_DPT\"]].population)\n"
     ]
    }
   ],
   "source": [
    "with open(\"data/col.geojson\") as file:\n",
    "    dfgeo = geopandas.read_file(file)\n",
    "\n",
    "#norm2 = []\n",
    "cases2 = []\n",
    "population2 = []\n",
    "for index, row in dfgeo.iterrows():\n",
    "    if row[\"NOMBRE_DPT\"] in dep:\n",
    "        #n = float(data[data[\"dep\"] == row[\"NOMBRE_DPT\"]].norm)\n",
    "        c = int(data[data[\"dep\"] == row[\"NOMBRE_DPT\"]].cases)  \n",
    "        p = int(data[data[\"dep\"] == row[\"NOMBRE_DPT\"]].population)\n",
    "    else:\n",
    "        n = 0.0\n",
    "        c = 0\n",
    "        p = 0\n",
    "    #norm2.append(n)\n",
    "    cases2.append(c)\n",
    "    population2.append(p)\n",
    "\n",
    "#dfgeo[\"norm\"] = norm2\n",
    "dfgeo[\"cases\"] = cases2\n",
    "dfgeo[\"population\"] = population2\n",
    "for i in range(len(a)):\n",
    "    sublist = []\n",
    "    var1 = a[i][0]\n",
    "    var2 = a[i][1]\n",
    "    for index, row in dfgeo.iterrows():\n",
    "        if row[\"NOMBRE_DPT\"] in a[i][2]:\n",
    "            varcas = a[i][2][row[\"NOMBRE_DPT\"]]\n",
    "        else:\n",
    "            varcas = 0\n",
    "        sublist.append(varcas)\n",
    "    dfgeo[\"{}__{}\".format(var1, var2)] = sublist\n",
    "\n",
    "#dfgeo.to_file(\"data/col_with_attributes.geojson\", driver='GeoJSON')"
   ]
  }
 ],
 "metadata": {
  "kernelspec": {
   "display_name": "Python 3",
   "language": "python",
   "name": "python3"
  },
  "language_info": {
   "codemirror_mode": {
    "name": "ipython",
    "version": 3
   },
   "file_extension": ".py",
   "mimetype": "text/x-python",
   "name": "python",
   "nbconvert_exporter": "python",
   "pygments_lexer": "ipython3",
   "version": "3.10.11"
  },
  "orig_nbformat": 4
 },
 "nbformat": 4,
 "nbformat_minor": 2
}
